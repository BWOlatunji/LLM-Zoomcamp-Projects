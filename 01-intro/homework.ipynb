{
 "cells": [
  {
   "cell_type": "markdown",
   "id": "74aa23a2-70b6-4809-bfa0-e125aef014a2",
   "metadata": {},
   "source": [
    "# Intro to LLM"
   ]
  },
  {
   "cell_type": "markdown",
   "id": "3f69ef2e-5bd4-4bd2-a31f-54b7e02a1719",
   "metadata": {},
   "source": [
    "## Import libraries"
   ]
  },
  {
   "cell_type": "code",
   "execution_count": 1,
   "id": "612b9a42-25d1-41b0-b2a6-4f95e4b035ee",
   "metadata": {},
   "outputs": [],
   "source": [
    "import os"
   ]
  },
  {
   "cell_type": "code",
   "execution_count": 2,
   "id": "f801f242-eb89-4b52-a459-8f6f9d596603",
   "metadata": {},
   "outputs": [],
   "source": [
    "import streamlit as st\n",
    "from groq import Groq\n",
    "from dotenv import load_dotenv"
   ]
  },
  {
   "cell_type": "markdown",
   "id": "8ce58cc6-79af-4b4f-ac5e-1bbfce031dbd",
   "metadata": {},
   "source": [
    "## Load environment variables"
   ]
  },
  {
   "cell_type": "code",
   "execution_count": 3,
   "id": "aba4c5b6-74e5-4522-b5e1-5fc81eb7175f",
   "metadata": {},
   "outputs": [
    {
     "data": {
      "text/plain": [
       "True"
      ]
     },
     "execution_count": 3,
     "metadata": {},
     "output_type": "execute_result"
    }
   ],
   "source": [
    "load_dotenv()"
   ]
  },
  {
   "cell_type": "markdown",
   "id": "d0fb8447-4a5c-48fb-bcd3-17dd619f2fa4",
   "metadata": {},
   "source": [
    "## Create client calling Groq class"
   ]
  },
  {
   "cell_type": "code",
   "execution_count": 5,
   "id": "8e01fcff-e453-44b4-ae4d-8c3d9e6bd291",
   "metadata": {},
   "outputs": [],
   "source": [
    "client = Groq(api_key=os.getenv('groq_api_key'))"
   ]
  },
  {
   "cell_type": "markdown",
   "id": "c0f27f07-df73-47f0-a5d5-906a60d83924",
   "metadata": {},
   "source": [
    "## Create a query"
   ]
  },
  {
   "cell_type": "code",
   "execution_count": 6,
   "id": "ad65fce2-0868-401b-8ceb-35e6582f5c32",
   "metadata": {},
   "outputs": [],
   "source": [
    "response = client.chat.completions.create(\n",
    "    messages=[\n",
    "        {\n",
    "            \"role\": \"user\",\n",
    "            \"content\": \"Is it too late to join the course?\",\n",
    "        }\n",
    "    ],\n",
    "    model=\"llama3-8b-8192\",\n",
    ")\n"
   ]
  },
  {
   "cell_type": "markdown",
   "id": "3b7e6052-e6c8-45bc-9dd4-8a94f6537f2b",
   "metadata": {},
   "source": [
    "## Print the response"
   ]
  },
  {
   "cell_type": "code",
   "execution_count": 7,
   "id": "15c7d224-cf1b-4c40-806d-db75d5e35251",
   "metadata": {},
   "outputs": [
    {
     "name": "stdout",
     "output_type": "stream",
     "text": [
      "I'm happy to help you! However, I need more information about the course you're interested in. Could you please provide me with the following details:\n",
      "\n",
      "1. What is the name of the course?\n",
      "2. Where did you find the course (online platform, institution, etc.)?\n",
      "3. When did you first see the course advertised?\n",
      "\n",
      "Once I have this information, I'll do my best to help you determine if it's too late to join the course.\n"
     ]
    }
   ],
   "source": [
    "print(response.choices[0].message.content)"
   ]
  },
  {
   "cell_type": "code",
   "execution_count": null,
   "id": "f66efa53-b455-411a-bbe3-e90257006775",
   "metadata": {},
   "outputs": [],
   "source": []
  }
 ],
 "metadata": {
  "kernelspec": {
   "display_name": "Python 3",
   "language": "python",
   "name": "python3"
  },
  "language_info": {
   "codemirror_mode": {
    "name": "ipython",
    "version": 3
   },
   "file_extension": ".py",
   "mimetype": "text/x-python",
   "name": "python",
   "nbconvert_exporter": "python",
   "pygments_lexer": "ipython3",
   "version": "3.12.1"
  }
 },
 "nbformat": 4,
 "nbformat_minor": 5
}
